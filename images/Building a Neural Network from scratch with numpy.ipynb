{
 "cells": [
  {
   "cell_type": "code",
   "execution_count": 18,
   "metadata": {},
   "outputs": [],
   "source": [
    "import numpy as np\n",
    "import matplotlib.pyplot as plt\n",
    "from mpl_toolkits.mplot3d import Axes3D"
   ]
  },
  {
   "cell_type": "code",
   "execution_count": 19,
   "metadata": {},
   "outputs": [
    {
     "name": "stdout",
     "output_type": "stream",
     "text": [
      "(1000, 2)\n"
     ]
    }
   ],
   "source": [
    "# Generate Some Fake Data\n",
    "\n",
    "observations = 1000\n",
    "\n",
    "xs = np.random.uniform(low=-10,high=10,size = (observations,1))\n",
    "\n",
    "zs = np.random.uniform(-10,10,(observations,1))\n",
    "\n",
    "inputs = np.column_stack((xs,zs))\n",
    "\n",
    "print(inputs.shape)"
   ]
  },
  {
   "cell_type": "code",
   "execution_count": 20,
   "metadata": {},
   "outputs": [
    {
     "name": "stdout",
     "output_type": "stream",
     "text": [
      "(1000, 1)\n"
     ]
    }
   ],
   "source": [
    "# targets\n",
    "\n",
    "\n",
    "# 2x - 3z + 5 + noise (example algorithim)\n",
    "\n",
    "\n",
    "noise = np.random.uniform(-1,1,(observations,1))\n",
    "\n",
    "targets = 2*xs - 3*zs + noise\n",
    "\n",
    "print(targets.shape)\n",
    "\n"
   ]
  },
  {
   "cell_type": "code",
   "execution_count": 21,
   "metadata": {},
   "outputs": [
    {
     "name": "stdout",
     "output_type": "stream",
     "text": [
      "[[0.06055898]\n",
      " [0.09012521]]\n",
      "[0.05991445]\n"
     ]
    }
   ],
   "source": [
    "# bias range\n",
    "init_range = 0.1\n",
    "\n",
    "\n",
    "weights = np.random.uniform(-init_range,init_range,size=(2,1))\n",
    "\n",
    "biases = np.random.uniform(-init_range,init_range,size=1)\n",
    "\n",
    "\n",
    "print(weights)\n",
    "print(biases)\n"
   ]
  },
  {
   "cell_type": "code",
   "execution_count": 22,
   "metadata": {},
   "outputs": [],
   "source": [
    "# learning rate\n",
    "learning_rate = 0.02"
   ]
  },
  {
   "cell_type": "code",
   "execution_count": 23,
   "metadata": {
    "scrolled": true
   },
   "outputs": [
    {
     "name": "stdout",
     "output_type": "stream",
     "text": [
      "242.61499969624643\n",
      "17.956157930327755\n",
      "1.476612556473123\n",
      "0.26754471102299976\n",
      "0.17871618403739792\n",
      "0.17208391328454883\n",
      "0.17148805932809166\n",
      "0.17133962472892544\n",
      "0.17122818680702195\n",
      "0.17112344298460522\n",
      "0.17102300948659077\n",
      "0.1709265600231751\n",
      "0.17083392557070068\n",
      "0.1707449544179785\n",
      "0.170659501637108\n",
      "0.17057742808932427\n",
      "0.17049860014240942\n",
      "0.17042288944895637\n",
      "0.17035017273708405\n",
      "0.17028033160970335\n",
      "0.1702132523517417\n",
      "0.17014882574499252\n",
      "0.17008694689028597\n",
      "0.1700275150366935\n",
      "0.16997043341748458\n",
      "0.16991560909257186\n",
      "0.16986295279718672\n",
      "0.16981237879653824\n",
      "0.16976380474622027\n",
      "0.16971715155813882\n",
      "0.16967234327174058\n",
      "0.1696293069303346\n",
      "0.1695879724623047\n",
      "0.16954827256701843\n",
      "0.16951014260524908\n",
      "0.16947352049392986\n",
      "0.16943834660507084\n",
      "0.16940456366867254\n",
      "0.1693721166794792\n",
      "0.16934095280741993\n",
      "0.16931102131159007\n",
      "0.16928227345763563\n",
      "0.16925466243840417\n",
      "0.1692281432977336\n",
      "0.16920267285725415\n",
      "0.16917820964608626\n",
      "0.16915471383331737\n",
      "0.16913214716314967\n",
      "0.16911047289261202\n",
      "0.1690896557317347\n",
      "0.16906966178609145\n",
      "0.1690504585016117\n",
      "0.16903201461157674\n",
      "0.16901430008571122\n",
      "0.16899728608128758\n",
      "0.16898094489616503\n",
      "0.1689652499236847\n",
      "0.16895017560934894\n",
      "0.16893569740921305\n",
      "0.16892179174992378\n",
      "0.16890843599033672\n",
      "0.1688956083846521\n",
      "0.16888328804700825\n",
      "0.1688714549174758\n",
      "0.16886008972939595\n",
      "0.16884917397800997\n",
      "0.16883868989033107\n",
      "0.1688286203962051\n",
      "0.16881894910051795\n",
      "0.16880966025650093\n",
      "0.16880073874009133\n",
      "0.16879217002530833\n",
      "0.16878394016060133\n",
      "0.16877603574613434\n",
      "0.16876844391196777\n",
      "0.16876115229710484\n",
      "0.16875414902936425\n",
      "0.16874742270605073\n",
      "0.1687409623753888\n",
      "0.16873475751869124\n",
      "0.16872879803323282\n",
      "0.1687230742158006\n",
      "0.16871757674689566\n",
      "0.16871229667555898\n",
      "0.1687072254047972\n",
      "0.16870235467758557\n",
      "0.16869767656342372\n",
      "0.1686931834454226\n",
      "0.16868886800790406\n",
      "0.16868472322448802\n",
      "0.16868074234665295\n",
      "0.1686769188927481\n",
      "0.16867324663743932\n",
      "0.16866971960157384\n",
      "0.16866633204244447\n",
      "0.1686630784444397\n",
      "0.16865995351006297\n",
      "0.16865695215130724\n",
      "0.16865406948137104\n",
      "0.16865130080670154\n"
     ]
    }
   ],
   "source": [
    "# train\n",
    "\n",
    "\n",
    "for i in range (100):\n",
    "    \n",
    "    \n",
    "    # outputs for given weights and biases\n",
    "    \n",
    "    outputs = np.dot(inputs,weights) + biases\n",
    "    \n",
    "    deltas = outputs - targets\n",
    "    \n",
    "    \n",
    "    # loss function compared to the targets\n",
    "    \n",
    "    loss = np.sum(deltas ** 2) / 2 / observations\n",
    "    \n",
    "    \n",
    "    #prints\n",
    "    print(loss)\n",
    "    \n",
    "    deltas_scaled = deltas / observations\n",
    "    \n",
    "    \n",
    "    \n",
    "    # upgraded following Gradient descent\n",
    "    weights = weights - learning_rate * np.dot(inputs.T,deltas_scaled)\n",
    "    biases = biases - learning_rate * np.sum(deltas_scaled)\n",
    "    "
   ]
  },
  {
   "cell_type": "code",
   "execution_count": 24,
   "metadata": {},
   "outputs": [
    {
     "name": "stdout",
     "output_type": "stream",
     "text": [
      "[[ 2.00049695]\n",
      " [-2.99827861]] [-0.00096943]\n"
     ]
    }
   ],
   "source": [
    "print (weights,biases)"
   ]
  },
  {
   "cell_type": "code",
   "execution_count": 25,
   "metadata": {},
   "outputs": [
    {
     "data": {
      "text/plain": [
       "[<matplotlib.lines.Line2D at 0x15f36677978>]"
      ]
     },
     "execution_count": 25,
     "metadata": {},
     "output_type": "execute_result"
    },
    {
     "data": {
      "image/png": "[encoded data removed]",
      "text/plain": [
       "<Figure size 432x288 with 1 Axes>"
      ]
     },
     "metadata": {
      "needs_background": "light"
     },
     "output_type": "display_data"
    }
   ],
   "source": [
    "plt.plot(outputs,targets)"
   ]
  },
  {
   "cell_type": "code",
   "execution_count": null,
   "metadata": {},
   "outputs": [],
   "source": []
  }
 ],
 "metadata": {
  "kernelspec": {
   "display_name": "Python 3",
   "language": "python",
   "name": "python3"
  },
  "language_info": {
   "codemirror_mode": {
    "name": "ipython",
    "version": 3
   },
   "file_extension": ".py",
   "mimetype": "text/x-python",
   "name": "python",
   "nbconvert_exporter": "python",
   "pygments_lexer": "ipython3",
   "version": "3.7.3"
  }
 },
 "nbformat": 4,
 "nbformat_minor": 2
}
