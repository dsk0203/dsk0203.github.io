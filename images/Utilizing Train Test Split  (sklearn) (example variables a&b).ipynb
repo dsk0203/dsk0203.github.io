{
 "cells": [
  {
   "cell_type": "code",
   "execution_count": 1,
   "metadata": {},
   "outputs": [],
   "source": [
    "import numpy as np\n",
    "from sklearn.model_selection import train_test_split"
   ]
  },
  {
   "cell_type": "code",
   "execution_count": 2,
   "metadata": {},
   "outputs": [
    {
     "name": "stdout",
     "output_type": "stream",
     "text": [
      "[  1   2   3   4   5   6   7   8   9  10  11  12  13  14  15  16  17  18\n",
      "  19  20  21  22  23  24  25  26  27  28  29  30  31  32  33  34  35  36\n",
      "  37  38  39  40  41  42  43  44  45  46  47  48  49  50  51  52  53  54\n",
      "  55  56  57  58  59  60  61  62  63  64  65  66  67  68  69  70  71  72\n",
      "  73  74  75  76  77  78  79  80  81  82  83  84  85  86  87  88  89  90\n",
      "  91  92  93  94  95  96  97  98  99 100]\n"
     ]
    }
   ],
   "source": [
    "a = np.arange(1,101)\n",
    "print(a)"
   ]
  },
  {
   "cell_type": "code",
   "execution_count": 32,
   "metadata": {},
   "outputs": [
    {
     "name": "stdout",
     "output_type": "stream",
     "text": [
      "[500 501 502 503 504 505 506 507 508 509 510 511 512 513 514 515 516 517\n",
      " 518 519 520 521 522 523 524 525 526 527 528 529 530 531 532 533 534 535\n",
      " 536 537 538 539 540 541 542 543 544 545 546 547 548 549 550 551 552 553\n",
      " 554 555 556 557 558 559 560 561 562 563 564 565 566 567 568 569 570 571\n",
      " 572 573 574 575 576 577 578 579 580 581 582 583 584 585 586 587 588 589\n",
      " 590 591 592 593 594 595 596 597 598 599]\n"
     ]
    }
   ],
   "source": [
    "b = np.arange(500,600)\n",
    "print(b)"
   ]
  },
  {
   "cell_type": "code",
   "execution_count": 33,
   "metadata": {},
   "outputs": [
    {
     "data": {
      "text/plain": [
       "[array([ 56,  89,  27,  43,  70,  16,  41,  97,  10,  73,  12,  48,  86,\n",
       "         29,  94,   6,  67,  66,  36,  17,  50,  35,   8,  96,  28,  20,\n",
       "         82,  26,  63,  14,  25,   4,  18,  39,   9,  79,   7,  65,  37,\n",
       "         90,  57, 100,  55,  44,  51,  68,  47,  69,  62,  98,  80,  42,\n",
       "         59,  49,  99,  58,  76,  33,  95,  60,  64,  85,  38,  30,   2,\n",
       "         53,  22,   3,  24,  88,  92,  75,  87,  83,  21,  61,  72,  15,\n",
       "         93,  52]),\n",
       " array([84, 54, 71, 46, 45, 40, 23, 81, 11,  1, 19, 31, 74, 34, 91,  5, 77,\n",
       "        78, 13, 32]),\n",
       " array([555, 588, 526, 542, 569, 515, 540, 596, 509, 572, 511, 547, 585,\n",
       "        528, 593, 505, 566, 565, 535, 516, 549, 534, 507, 595, 527, 519,\n",
       "        581, 525, 562, 513, 524, 503, 517, 538, 508, 578, 506, 564, 536,\n",
       "        589, 556, 599, 554, 543, 550, 567, 546, 568, 561, 597, 579, 541,\n",
       "        558, 548, 598, 557, 575, 532, 594, 559, 563, 584, 537, 529, 501,\n",
       "        552, 521, 502, 523, 587, 591, 574, 586, 582, 520, 560, 571, 514,\n",
       "        592, 551]),\n",
       " array([583, 553, 570, 545, 544, 539, 522, 580, 510, 500, 518, 530, 573,\n",
       "        533, 590, 504, 576, 577, 512, 531])]"
      ]
     },
     "execution_count": 33,
     "metadata": {},
     "output_type": "execute_result"
    }
   ],
   "source": [
    "# split\n",
    "# if using time series, want shuffle=False\n",
    "\n",
    "train_test_split(a, b, test_size = 0.2, random_state=42)"
   ]
  },
  {
   "cell_type": "code",
   "execution_count": 34,
   "metadata": {},
   "outputs": [],
   "source": [
    "a_train, a_test = train_test_split(a)\n",
    "b_train, b_test = train_test_split(b)"
   ]
  },
  {
   "cell_type": "code",
   "execution_count": 36,
   "metadata": {},
   "outputs": [
    {
     "data": {
      "text/plain": [
       "(75,)"
      ]
     },
     "execution_count": 36,
     "metadata": {},
     "output_type": "execute_result"
    }
   ],
   "source": [
    "a_train.shape"
   ]
  },
  {
   "cell_type": "code",
   "execution_count": 37,
   "metadata": {},
   "outputs": [
    {
     "data": {
      "text/plain": [
       "(25,)"
      ]
     },
     "execution_count": 37,
     "metadata": {},
     "output_type": "execute_result"
    }
   ],
   "source": [
    "a_test.shape"
   ]
  },
  {
   "cell_type": "code",
   "execution_count": 38,
   "metadata": {},
   "outputs": [
    {
     "data": {
      "text/plain": [
       "array([554, 593, 556, 568, 521, 529, 594, 588, 553, 512, 560, 519, 538,\n",
       "       503, 571, 579, 539, 500, 562, 544, 545, 566, 576, 564, 572, 502,\n",
       "       592, 543, 508, 526, 582, 522, 575, 557, 528, 527, 517, 599, 533,\n",
       "       597, 520, 524, 537, 516, 590, 550, 541, 596, 507, 589, 586, 574,\n",
       "       504, 573, 510, 580, 549, 531, 525, 555, 578, 569, 570, 551, 518,\n",
       "       546, 585, 540, 581, 523, 505, 501, 577, 515, 530])"
      ]
     },
     "execution_count": 38,
     "metadata": {},
     "output_type": "execute_result"
    }
   ],
   "source": [
    "b_train"
   ]
  },
  {
   "cell_type": "code",
   "execution_count": 39,
   "metadata": {},
   "outputs": [
    {
     "data": {
      "text/plain": [
       "array([547, 535, 536, 591, 565, 542, 561, 595, 552, 511, 567, 534, 548,\n",
       "       583, 558, 513, 506, 563, 559, 598, 509, 587, 514, 532, 584])"
      ]
     },
     "execution_count": 39,
     "metadata": {},
     "output_type": "execute_result"
    }
   ],
   "source": [
    "b_test"
   ]
  },
  {
   "cell_type": "code",
   "execution_count": 40,
   "metadata": {},
   "outputs": [
    {
     "data": {
      "text/plain": [
       "(75,)"
      ]
     },
     "execution_count": 40,
     "metadata": {},
     "output_type": "execute_result"
    }
   ],
   "source": [
    "b_train.shape"
   ]
  },
  {
   "cell_type": "code",
   "execution_count": 30,
   "metadata": {},
   "outputs": [
    {
     "data": {
      "text/plain": [
       "(25,)"
      ]
     },
     "execution_count": 30,
     "metadata": {},
     "output_type": "execute_result"
    }
   ],
   "source": [
    "b_test.shape"
   ]
  },
  {
   "cell_type": "markdown",
   "metadata": {},
   "source": [
    "We have two different data sets ready for modeling and testing, allowing us to test for overfitting"
   ]
  },
  {
   "cell_type": "code",
   "execution_count": null,
   "metadata": {},
   "outputs": [],
   "source": []
  }
 ],
 "metadata": {
  "kernelspec": {
   "display_name": "Python 3",
   "language": "python",
   "name": "python3"
  },
  "language_info": {
   "codemirror_mode": {
    "name": "ipython",
    "version": 3
   },
   "file_extension": ".py",
   "mimetype": "text/x-python",
   "name": "python",
   "nbconvert_exporter": "python",
   "pygments_lexer": "ipython3",
   "version": "3.7.3"
  }
 },
 "nbformat": 4,
 "nbformat_minor": 2
}
